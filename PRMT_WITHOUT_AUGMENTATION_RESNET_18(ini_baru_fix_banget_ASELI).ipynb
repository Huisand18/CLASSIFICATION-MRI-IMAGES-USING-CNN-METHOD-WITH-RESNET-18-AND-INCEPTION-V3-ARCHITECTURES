{
  "cells": [
    {
      "cell_type": "markdown",
      "source": [
        "# **LIBRARY**"
      ],
      "metadata": {
        "id": "S8dZ6SOfKjf_"
      }
    },
    {
      "cell_type": "code",
      "execution_count": 1,
      "metadata": {
        "id": "SE68VdFHQQ0Y"
      },
      "outputs": [],
      "source": [
        "\n",
        "import numpy as np\n",
        "import pandas as pd\n",
        "import matplotlib.pyplot as plt\n",
        "import cv2\n",
        "import random\n",
        "from tqdm import tqdm\n",
        "import tensorflow as tf\n",
        "from tensorflow.keras.preprocessing.image import load_img,ImageDataGenerator\n",
        "\n",
        "\n",
        "import os\n",
        "for dirname, _, filenames in os.walk('/kaggle/input'):\n",
        "    for filename in filenames:\n",
        "        print(os.path.join(dirname, filename))"
      ]
    },
    {
      "cell_type": "markdown",
      "source": [
        "# **LOAD DATA**"
      ],
      "metadata": {
        "id": "o5eDWFsUkIdd"
      }
    },
    {
      "cell_type": "code",
      "source": [],
      "metadata": {
        "id": "eDtPUXYSkQrF"
      },
      "execution_count": 1,
      "outputs": []
    },
    {
      "cell_type": "markdown",
      "source": [
        "# **SPLITTING DATA**"
      ],
      "metadata": {
        "id": "NTOE8TvbkRxZ"
      }
    },
    {
      "cell_type": "code",
      "source": [],
      "metadata": {
        "id": "47ogo8c1kUu8"
      },
      "execution_count": 1,
      "outputs": []
    },
    {
      "cell_type": "markdown",
      "source": [
        "# **AUGMENTASI DATA**"
      ],
      "metadata": {
        "id": "Qza0h5-UkV9e"
      }
    },
    {
      "cell_type": "code",
      "source": [],
      "metadata": {
        "id": "blcA52ixkYvg"
      },
      "execution_count": 1,
      "outputs": []
    },
    {
      "cell_type": "markdown",
      "metadata": {
        "id": "WDWnyHmtQQ0p"
      },
      "source": [
        "# **MODELING**"
      ]
    },
    {
      "cell_type": "markdown",
      "source": [
        "## **RESNET 18**"
      ],
      "metadata": {
        "id": "wXguXMC7LEjc"
      }
    },
    {
      "cell_type": "code",
      "source": [
        "import torch\n",
        "import torch.nn as nn\n",
        "import torch.optim as optim\n",
        "from torchvision import datasets, transforms\n",
        "from torch.utils.data import DataLoader\n",
        "import matplotlib.pyplot as plt\n",
        "\n",
        "from google.colab import drive\n",
        "drive.mount('/content/drive')\n",
        "\n",
        "class CustomResNet18(nn.Module):\n",
        "    def __init__(self, num_classes):\n",
        "        super(CustomResNet18, self).__init__()\n",
        "        self.resnet = torch.hub.load('pytorch/vision:v0.9.0', 'resnet18', pretrained=True)\n",
        "        for param in list(self.resnet.parameters())[-10:]:\n",
        "            param.requires_grad = True\n",
        "        # for param in self.resnet.parameters():\n",
        "        #     param.requires_grad = False\n",
        "        num_ftrs = self.resnet.fc.in_features\n",
        "        self.resnet.fc = nn.Linear(num_ftrs, num_classes)\n",
        "\n",
        "    def forward(self, x):\n",
        "        return self.resnet(x)\n",
        "\n",
        "from torchvision import transforms\n",
        "\n",
        "transform = {\n",
        "    'train': transforms.Compose([\n",
        "        transforms.Resize((224, 224)),\n",
        "\n",
        "        transforms.ToTensor(),\n",
        "        transforms.Normalize([0.485, 0.456, 0.406], [0.229, 0.224, 0.225])\n",
        "    ]),\n",
        "    'val': transforms.Compose([\n",
        "        transforms.Resize((224, 224)),\n",
        "\n",
        "        transforms.ToTensor(),\n",
        "        transforms.Normalize([0.485, 0.456, 0.406], [0.229, 0.224, 0.225])\n",
        "    ]),\n",
        "}\n",
        "\n",
        "train_dataset = datasets.ImageFolder(root='/content/drive/MyDrive/SKRIPSI/dataset_split/train', transform=transform['train'])\n",
        "val_dataset = datasets.ImageFolder(root='/content/drive/MyDrive/SKRIPSI/dataset_split/val', transform=transform['val'])\n",
        "\n",
        "train_loader = DataLoader(train_dataset, batch_size=32, shuffle=True, num_workers=2)\n",
        "val_loader = DataLoader(val_dataset, batch_size=32, shuffle=False, num_workers=2)\n",
        "\n",
        "num_classes = len(train_dataset.classes)\n",
        "device = torch.device(\"cuda\" if torch.cuda.is_available() else \"cpu\")\n",
        "model = CustomResNet18(num_classes).to(device)\n",
        "\n",
        "criterion = nn.CrossEntropyLoss()\n",
        "optimizer = optim.Adam(model.parameters(), lr=0.001)\n",
        "\n",
        "def train_model(model, criterion, optimizer, num_epochs=25):\n",
        "    train_loss_history = []  # Initialize list to store training loss per epoch\n",
        "    val_loss_history = []    # Initialize list to store validation loss per epoch\n",
        "    train_acc_history = []   # Initialize list to store training accuracy per epoch\n",
        "    val_acc_history = []     # Initialize list to store validation accuracy per epoch\n",
        "\n",
        "    for epoch in range(num_epochs):\n",
        "        print('Epoch {}/{}'.format(epoch, num_epochs - 1))\n",
        "        print('-' * 10)\n",
        "\n",
        "        for phase in ['train', 'val']:\n",
        "            if phase == 'train':\n",
        "                model.train()\n",
        "                dataloader = train_loader\n",
        "            else:\n",
        "                model.eval()\n",
        "                dataloader = val_loader\n",
        "\n",
        "            running_loss = 0.0\n",
        "            running_corrects = 0\n",
        "            total_samples = 0\n",
        "\n",
        "            for inputs, labels in dataloader:\n",
        "                inputs = inputs.to(device)\n",
        "                labels = labels.to(device)\n",
        "\n",
        "                optimizer.zero_grad()\n",
        "\n",
        "                with torch.set_grad_enabled(phase == 'train'):\n",
        "                    outputs = model(inputs)\n",
        "                    _, preds = torch.max(outputs, 1)\n",
        "                    loss = criterion(outputs, labels)\n",
        "\n",
        "                    if phase == 'train':\n",
        "                        loss.backward()\n",
        "                        optimizer.step()\n",
        "\n",
        "                running_loss += loss.item() * inputs.size(0)\n",
        "                running_corrects += torch.sum(preds == labels.data)\n",
        "                total_samples += labels.size(0)\n",
        "\n",
        "            epoch_loss = running_loss / total_samples\n",
        "            epoch_acc = running_corrects.double() / total_samples\n",
        "\n",
        "            print('{} Loss: {:.4f} Acc: {:.4f}'.format(phase, epoch_loss, epoch_acc))\n",
        "\n",
        "            # Store loss and accuracy per epoch\n",
        "            if phase == 'train':\n",
        "                train_loss_history.append(epoch_loss)\n",
        "                train_acc_history.append(epoch_acc)\n",
        "            else:\n",
        "                val_loss_history.append(epoch_loss)\n",
        "                val_acc_history.append(epoch_acc)\n",
        "\n",
        "    return train_loss_history, val_loss_history, train_acc_history, val_acc_history\n",
        "\n",
        "# Train the model\n",
        "train_loss_history, val_loss_history, train_acc_history, val_acc_history = train_model(model, criterion, optimizer, num_epochs=30)\n",
        "\n",
        "\n"
      ],
      "metadata": {
        "colab": {
          "base_uri": "https://localhost:8080/"
        },
        "id": "PSqSTmTwf0LG",
        "outputId": "3bf431ce-64df-44d6-c540-5ec0a9099cd1"
      },
      "execution_count": 2,
      "outputs": [
        {
          "output_type": "stream",
          "name": "stdout",
          "text": [
            "Mounted at /content/drive\n"
          ]
        },
        {
          "output_type": "stream",
          "name": "stderr",
          "text": [
            "Downloading: \"https://github.com/pytorch/vision/zipball/v0.9.0\" to /root/.cache/torch/hub/v0.9.0.zip\n",
            "/usr/local/lib/python3.10/dist-packages/torchvision/models/_utils.py:208: UserWarning: The parameter 'pretrained' is deprecated since 0.13 and may be removed in the future, please use 'weights' instead.\n",
            "  warnings.warn(\n",
            "/usr/local/lib/python3.10/dist-packages/torchvision/models/_utils.py:223: UserWarning: Arguments other than a weight enum or `None` for 'weights' are deprecated since 0.13 and may be removed in the future. The current behavior is equivalent to passing `weights=ResNet18_Weights.IMAGENET1K_V1`. You can also use `weights=ResNet18_Weights.DEFAULT` to get the most up-to-date weights.\n",
            "  warnings.warn(msg)\n",
            "Downloading: \"https://download.pytorch.org/models/resnet18-f37072fd.pth\" to /root/.cache/torch/hub/checkpoints/resnet18-f37072fd.pth\n",
            "100%|██████████| 44.7M/44.7M [00:00<00:00, 167MB/s]\n"
          ]
        },
        {
          "output_type": "stream",
          "name": "stdout",
          "text": [
            "Epoch 0/29\n",
            "----------\n"
          ]
        },
        {
          "output_type": "stream",
          "name": "stderr",
          "text": [
            "/usr/lib/python3.10/multiprocessing/popen_fork.py:66: RuntimeWarning: os.fork() was called. os.fork() is incompatible with multithreaded code, and JAX is multithreaded, so this will likely lead to a deadlock.\n",
            "  self.pid = os.fork()\n",
            "/usr/lib/python3.10/multiprocessing/popen_fork.py:66: RuntimeWarning: os.fork() was called. os.fork() is incompatible with multithreaded code, and JAX is multithreaded, so this will likely lead to a deadlock.\n",
            "  self.pid = os.fork()\n"
          ]
        },
        {
          "output_type": "stream",
          "name": "stdout",
          "text": [
            "train Loss: 0.5389 Acc: 0.8043\n",
            "val Loss: 0.3988 Acc: 0.8689\n",
            "Epoch 1/29\n",
            "----------\n",
            "train Loss: 0.2479 Acc: 0.9162\n",
            "val Loss: 0.4461 Acc: 0.8486\n",
            "Epoch 2/29\n",
            "----------\n",
            "train Loss: 0.1418 Acc: 0.9506\n",
            "val Loss: 0.3261 Acc: 0.9081\n",
            "Epoch 3/29\n",
            "----------\n",
            "train Loss: 0.1280 Acc: 0.9548\n",
            "val Loss: 0.4145 Acc: 0.8905\n",
            "Epoch 4/29\n",
            "----------\n",
            "train Loss: 0.1023 Acc: 0.9618\n",
            "val Loss: 0.2518 Acc: 0.9311\n",
            "Epoch 5/29\n",
            "----------\n",
            "train Loss: 0.0994 Acc: 0.9602\n",
            "val Loss: 0.3210 Acc: 0.8946\n",
            "Epoch 6/29\n",
            "----------\n",
            "train Loss: 0.0636 Acc: 0.9792\n",
            "val Loss: 1.5159 Acc: 0.6108\n",
            "Epoch 7/29\n",
            "----------\n",
            "train Loss: 0.0492 Acc: 0.9861\n",
            "val Loss: 0.1383 Acc: 0.9595\n",
            "Epoch 8/29\n",
            "----------\n",
            "train Loss: 0.0167 Acc: 0.9950\n",
            "val Loss: 0.2230 Acc: 0.9568\n",
            "Epoch 9/29\n",
            "----------\n",
            "train Loss: 0.0127 Acc: 0.9958\n",
            "val Loss: 0.2059 Acc: 0.9595\n",
            "Epoch 10/29\n",
            "----------\n",
            "train Loss: 0.0777 Acc: 0.9765\n",
            "val Loss: 0.3714 Acc: 0.9135\n",
            "Epoch 11/29\n",
            "----------\n",
            "train Loss: 0.0540 Acc: 0.9819\n",
            "val Loss: 0.3729 Acc: 0.9041\n",
            "Epoch 12/29\n",
            "----------\n",
            "train Loss: 0.0559 Acc: 0.9822\n",
            "val Loss: 0.1822 Acc: 0.9392\n",
            "Epoch 13/29\n",
            "----------\n",
            "train Loss: 0.0554 Acc: 0.9815\n",
            "val Loss: 0.2470 Acc: 0.9311\n",
            "Epoch 14/29\n",
            "----------\n",
            "train Loss: 0.0446 Acc: 0.9869\n",
            "val Loss: 0.2182 Acc: 0.9351\n",
            "Epoch 15/29\n",
            "----------\n",
            "train Loss: 0.0304 Acc: 0.9892\n",
            "val Loss: 0.4013 Acc: 0.9095\n",
            "Epoch 16/29\n",
            "----------\n",
            "train Loss: 0.0310 Acc: 0.9904\n",
            "val Loss: 0.1844 Acc: 0.9541\n",
            "Epoch 17/29\n",
            "----------\n",
            "train Loss: 0.0139 Acc: 0.9950\n",
            "val Loss: 0.3409 Acc: 0.9338\n",
            "Epoch 18/29\n",
            "----------\n",
            "train Loss: 0.0337 Acc: 0.9888\n",
            "val Loss: 0.1898 Acc: 0.9500\n",
            "Epoch 19/29\n",
            "----------\n",
            "train Loss: 0.0168 Acc: 0.9942\n",
            "val Loss: 0.3594 Acc: 0.9257\n",
            "Epoch 20/29\n",
            "----------\n",
            "train Loss: 0.0148 Acc: 0.9942\n",
            "val Loss: 0.1710 Acc: 0.9649\n",
            "Epoch 21/29\n",
            "----------\n",
            "train Loss: 0.0062 Acc: 0.9985\n",
            "val Loss: 0.1699 Acc: 0.9676\n",
            "Epoch 22/29\n",
            "----------\n",
            "train Loss: 0.0044 Acc: 0.9985\n",
            "val Loss: 0.2006 Acc: 0.9676\n",
            "Epoch 23/29\n",
            "----------\n",
            "train Loss: 0.0126 Acc: 0.9969\n",
            "val Loss: 0.2035 Acc: 0.9568\n",
            "Epoch 24/29\n",
            "----------\n",
            "train Loss: 0.0152 Acc: 0.9942\n",
            "val Loss: 0.3651 Acc: 0.9216\n",
            "Epoch 25/29\n",
            "----------\n",
            "train Loss: 0.0065 Acc: 0.9977\n",
            "val Loss: 0.1827 Acc: 0.9676\n",
            "Epoch 26/29\n",
            "----------\n",
            "train Loss: 0.0184 Acc: 0.9934\n",
            "val Loss: 0.2231 Acc: 0.9581\n",
            "Epoch 27/29\n",
            "----------\n",
            "train Loss: 0.0582 Acc: 0.9819\n",
            "val Loss: 0.2575 Acc: 0.9338\n",
            "Epoch 28/29\n",
            "----------\n",
            "train Loss: 0.0433 Acc: 0.9892\n",
            "val Loss: 0.2416 Acc: 0.9541\n",
            "Epoch 29/29\n",
            "----------\n",
            "train Loss: 0.0202 Acc: 0.9938\n",
            "val Loss: 0.3266 Acc: 0.9324\n"
          ]
        }
      ]
    },
    {
      "cell_type": "code",
      "source": [
        "from sklearn.metrics import classification_report\n",
        "\n",
        "# Function to collect predictions and labels from the dataloader\n",
        "def get_predictions_and_labels(model, dataloader):\n",
        "    model.eval()\n",
        "    all_preds = []\n",
        "    all_labels = []\n",
        "    with torch.no_grad():\n",
        "        for inputs, labels in dataloader:\n",
        "            inputs = inputs.to(device)\n",
        "            labels = labels.to(device)\n",
        "            outputs = model(inputs)\n",
        "            _, preds = torch.max(outputs, 1)\n",
        "            all_preds.extend(preds.cpu().numpy())\n",
        "            all_labels.extend(labels.cpu().numpy())\n",
        "    return all_preds, all_labels\n",
        "\n",
        "# Collect predictions and labels from the validation set\n",
        "val_preds, val_labels = get_predictions_and_labels(model, val_loader)\n"
      ],
      "metadata": {
        "colab": {
          "base_uri": "https://localhost:8080/"
        },
        "id": "t9Pl5FFoOpbK",
        "outputId": "aebdee41-b373-4c5a-fdb1-3eebcb373be6"
      },
      "execution_count": 3,
      "outputs": [
        {
          "output_type": "stream",
          "name": "stderr",
          "text": [
            "/usr/lib/python3.10/multiprocessing/popen_fork.py:66: RuntimeWarning: os.fork() was called. os.fork() is incompatible with multithreaded code, and JAX is multithreaded, so this will likely lead to a deadlock.\n",
            "  self.pid = os.fork()\n"
          ]
        }
      ]
    },
    {
      "cell_type": "code",
      "source": [
        "from sklearn.metrics import classification_report\n",
        "\n",
        "# Generate classification report\n",
        "report = classification_report(val_labels, val_preds, target_names=train_dataset.classes)\n",
        "print(report)\n"
      ],
      "metadata": {
        "colab": {
          "base_uri": "https://localhost:8080/"
        },
        "id": "-TeupDrZOsvY",
        "outputId": "f48ae045-3e80-4aad-d981-4aad36c18e80"
      },
      "execution_count": 4,
      "outputs": [
        {
          "output_type": "stream",
          "name": "stdout",
          "text": [
            "                  precision    recall  f1-score   support\n",
            "\n",
            "    glioma_tumor       0.99      0.81      0.89       187\n",
            "meningioma_tumor       0.84      0.93      0.88       187\n",
            "        no_tumor       0.99      1.00      0.99       186\n",
            " pituitary_tumor       0.93      0.99      0.96       180\n",
            "\n",
            "        accuracy                           0.93       740\n",
            "       macro avg       0.94      0.93      0.93       740\n",
            "    weighted avg       0.94      0.93      0.93       740\n",
            "\n"
          ]
        }
      ]
    },
    {
      "cell_type": "code",
      "source": [
        "# Plot train and validation loss\n",
        "\n",
        "plt.plot(train_loss_history, label='Train Loss')\n",
        "plt.plot(val_loss_history, label='Validation Loss')\n",
        "plt.xlabel('Epoch')\n",
        "plt.ylabel('Loss')\n",
        "plt.title('Train and Validation Loss')\n",
        "plt.legend()\n",
        "plt.show()\n",
        "\n",
        "train_acc_cpu = [acc.cpu().numpy() for acc in train_acc_history]\n",
        "val_acc_cpu = [acc.cpu().numpy() for acc in val_acc_history]\n",
        "\n",
        "# Plot train and validation accuracy\n",
        "plt.plot(train_acc_cpu, label='Train Accuracy')\n",
        "plt.plot(val_acc_cpu, label='Validation Accuracy')\n",
        "plt.xlabel('Epoch')\n",
        "plt.ylabel('Accuracy')\n",
        "plt.title('Train and Validation Accuracy')\n",
        "plt.legend()\n",
        "plt.show()"
      ],
      "metadata": {
        "colab": {
          "base_uri": "https://localhost:8080/",
          "height": 927
        },
        "id": "kTmDzzlOiwHj",
        "outputId": "1355692a-b39d-4338-badf-b980f1604500"
      },
      "execution_count": 5,
      "outputs": [
        {
          "output_type": "display_data",
          "data": {
            "text/plain": [
              "<Figure size 640x480 with 1 Axes>"
            ],
            "image/png": "[encoded data removed]"
          },
          "metadata": {}
        },
        {
          "output_type": "display_data",
          "data": {
            "text/plain": [
              "<Figure size 640x480 with 1 Axes>"
            ],
            "image/png": "[encoded data removed]"
          },
          "metadata": {}
        }
      ]
    },
    {
      "cell_type": "code",
      "source": [
        "!pip install torchsummary\n"
      ],
      "metadata": {
        "colab": {
          "base_uri": "https://localhost:8080/"
        },
        "id": "xnKSpZJn_z9i",
        "outputId": "25fdd0be-6d22-44e5-e39d-3dfbeecd0950"
      },
      "execution_count": 6,
      "outputs": [
        {
          "output_type": "stream",
          "name": "stdout",
          "text": [
            "Requirement already satisfied: torchsummary in /usr/local/lib/python3.10/dist-packages (1.5.1)\n"
          ]
        }
      ]
    },
    {
      "cell_type": "code",
      "source": [
        "import torchsummary\n",
        "\n",
        "# Generate model summary\n",
        "torchsummary.summary(model, input_size=(3, 224, 224))\n"
      ],
      "metadata": {
        "colab": {
          "base_uri": "https://localhost:8080/"
        },
        "id": "jX7d32q1_06w",
        "outputId": "fdbfcaff-28b3-4f46-996c-d50147d31fd5"
      },
      "execution_count": 7,
      "outputs": [
        {
          "output_type": "stream",
          "name": "stdout",
          "text": [
            "----------------------------------------------------------------\n",
            "        Layer (type)               Output Shape         Param #\n",
            "================================================================\n",
            "            Conv2d-1         [-1, 64, 112, 112]           9,408\n",
            "       BatchNorm2d-2         [-1, 64, 112, 112]             128\n",
            "              ReLU-3         [-1, 64, 112, 112]               0\n",
            "         MaxPool2d-4           [-1, 64, 56, 56]               0\n",
            "            Conv2d-5           [-1, 64, 56, 56]          36,864\n",
            "       BatchNorm2d-6           [-1, 64, 56, 56]             128\n",
            "              ReLU-7           [-1, 64, 56, 56]               0\n",
            "            Conv2d-8           [-1, 64, 56, 56]          36,864\n",
            "       BatchNorm2d-9           [-1, 64, 56, 56]             128\n",
            "             ReLU-10           [-1, 64, 56, 56]               0\n",
            "       BasicBlock-11           [-1, 64, 56, 56]               0\n",
            "           Conv2d-12           [-1, 64, 56, 56]          36,864\n",
            "      BatchNorm2d-13           [-1, 64, 56, 56]             128\n",
            "             ReLU-14           [-1, 64, 56, 56]               0\n",
            "           Conv2d-15           [-1, 64, 56, 56]          36,864\n",
            "      BatchNorm2d-16           [-1, 64, 56, 56]             128\n",
            "             ReLU-17           [-1, 64, 56, 56]               0\n",
            "       BasicBlock-18           [-1, 64, 56, 56]               0\n",
            "           Conv2d-19          [-1, 128, 28, 28]          73,728\n",
            "      BatchNorm2d-20          [-1, 128, 28, 28]             256\n",
            "             ReLU-21          [-1, 128, 28, 28]               0\n",
            "           Conv2d-22          [-1, 128, 28, 28]         147,456\n",
            "      BatchNorm2d-23          [-1, 128, 28, 28]             256\n",
            "           Conv2d-24          [-1, 128, 28, 28]           8,192\n",
            "      BatchNorm2d-25          [-1, 128, 28, 28]             256\n",
            "             ReLU-26          [-1, 128, 28, 28]               0\n",
            "       BasicBlock-27          [-1, 128, 28, 28]               0\n",
            "           Conv2d-28          [-1, 128, 28, 28]         147,456\n",
            "      BatchNorm2d-29          [-1, 128, 28, 28]             256\n",
            "             ReLU-30          [-1, 128, 28, 28]               0\n",
            "           Conv2d-31          [-1, 128, 28, 28]         147,456\n",
            "      BatchNorm2d-32          [-1, 128, 28, 28]             256\n",
            "             ReLU-33          [-1, 128, 28, 28]               0\n",
            "       BasicBlock-34          [-1, 128, 28, 28]               0\n",
            "           Conv2d-35          [-1, 256, 14, 14]         294,912\n",
            "      BatchNorm2d-36          [-1, 256, 14, 14]             512\n",
            "             ReLU-37          [-1, 256, 14, 14]               0\n",
            "           Conv2d-38          [-1, 256, 14, 14]         589,824\n",
            "      BatchNorm2d-39          [-1, 256, 14, 14]             512\n",
            "           Conv2d-40          [-1, 256, 14, 14]          32,768\n",
            "      BatchNorm2d-41          [-1, 256, 14, 14]             512\n",
            "             ReLU-42          [-1, 256, 14, 14]               0\n",
            "       BasicBlock-43          [-1, 256, 14, 14]               0\n",
            "           Conv2d-44          [-1, 256, 14, 14]         589,824\n",
            "      BatchNorm2d-45          [-1, 256, 14, 14]             512\n",
            "             ReLU-46          [-1, 256, 14, 14]               0\n",
            "           Conv2d-47          [-1, 256, 14, 14]         589,824\n",
            "      BatchNorm2d-48          [-1, 256, 14, 14]             512\n",
            "             ReLU-49          [-1, 256, 14, 14]               0\n",
            "       BasicBlock-50          [-1, 256, 14, 14]               0\n",
            "           Conv2d-51            [-1, 512, 7, 7]       1,179,648\n",
            "      BatchNorm2d-52            [-1, 512, 7, 7]           1,024\n",
            "             ReLU-53            [-1, 512, 7, 7]               0\n",
            "           Conv2d-54            [-1, 512, 7, 7]       2,359,296\n",
            "      BatchNorm2d-55            [-1, 512, 7, 7]           1,024\n",
            "           Conv2d-56            [-1, 512, 7, 7]         131,072\n",
            "      BatchNorm2d-57            [-1, 512, 7, 7]           1,024\n",
            "             ReLU-58            [-1, 512, 7, 7]               0\n",
            "       BasicBlock-59            [-1, 512, 7, 7]               0\n",
            "           Conv2d-60            [-1, 512, 7, 7]       2,359,296\n",
            "      BatchNorm2d-61            [-1, 512, 7, 7]           1,024\n",
            "             ReLU-62            [-1, 512, 7, 7]               0\n",
            "           Conv2d-63            [-1, 512, 7, 7]       2,359,296\n",
            "      BatchNorm2d-64            [-1, 512, 7, 7]           1,024\n",
            "             ReLU-65            [-1, 512, 7, 7]               0\n",
            "       BasicBlock-66            [-1, 512, 7, 7]               0\n",
            "AdaptiveAvgPool2d-67            [-1, 512, 1, 1]               0\n",
            "           Linear-68                    [-1, 4]           2,052\n",
            "           ResNet-69                    [-1, 4]               0\n",
            "================================================================\n",
            "Total params: 11,178,564\n",
            "Trainable params: 11,178,564\n",
            "Non-trainable params: 0\n",
            "----------------------------------------------------------------\n",
            "Input size (MB): 0.57\n",
            "Forward/backward pass size (MB): 62.79\n",
            "Params size (MB): 42.64\n",
            "Estimated Total Size (MB): 106.00\n",
            "----------------------------------------------------------------\n"
          ]
        }
      ]
    }
  ],
  "metadata": {
    "accelerator": "GPU",
    "colab": {
      "gpuType": "T4",
      "provenance": [],
      "collapsed_sections": [
        "S8dZ6SOfKjf_",
        "NV-AepckKuOb",
        "arS123vzK8ev",
        "x4H5DYVpWWzo",
        "wOtKgTSHzQn3"
      ]
    },
    "kernelspec": {
      "display_name": "Python 3",
      "name": "python3"
    },
    "language_info": {
      "codemirror_mode": {
        "name": "ipython",
        "version": 3
      },
      "file_extension": ".py",
      "mimetype": "text/x-python",
      "name": "python",
      "nbconvert_exporter": "python",
      "pygments_lexer": "ipython3",
      "version": "3.6.4"
    }
  },
  "nbformat": 4,
  "nbformat_minor": 0
}