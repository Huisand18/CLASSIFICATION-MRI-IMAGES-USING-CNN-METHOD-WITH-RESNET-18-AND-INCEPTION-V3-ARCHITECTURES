{
  "cells": [
    {
      "cell_type": "markdown",
      "source": [
        "# **LIBRARY**"
      ],
      "metadata": {
        "id": "S8dZ6SOfKjf_"
      }
    },
    {
      "cell_type": "code",
      "execution_count": null,
      "metadata": {
        "id": "SE68VdFHQQ0Y"
      },
      "outputs": [],
      "source": [
        "\n",
        "import numpy as np\n",
        "import pandas as pd\n",
        "import matplotlib.pyplot as plt\n",
        "import cv2\n",
        "import random\n",
        "from tqdm import tqdm\n",
        "import tensorflow as tf\n",
        "from tensorflow.keras.preprocessing.image import load_img,ImageDataGenerator\n",
        "\n",
        "\n",
        "import os\n",
        "for dirname, _, filenames in os.walk('/kaggle/input'):\n",
        "    for filename in filenames:\n",
        "        print(os.path.join(dirname, filename))"
      ]
    },
    {
      "cell_type": "markdown",
      "source": [
        "# **LOAD DATA**"
      ],
      "metadata": {
        "id": "o5eDWFsUkIdd"
      }
    },
    {
      "cell_type": "code",
      "source": [],
      "metadata": {
        "id": "eDtPUXYSkQrF"
      },
      "execution_count": null,
      "outputs": []
    },
    {
      "cell_type": "markdown",
      "source": [
        "# **SPLITTING DATA**"
      ],
      "metadata": {
        "id": "NTOE8TvbkRxZ"
      }
    },
    {
      "cell_type": "code",
      "source": [],
      "metadata": {
        "id": "47ogo8c1kUu8"
      },
      "execution_count": null,
      "outputs": []
    },
    {
      "cell_type": "markdown",
      "source": [
        "# **AUGMENTASI DATA**"
      ],
      "metadata": {
        "id": "Qza0h5-UkV9e"
      }
    },
    {
      "cell_type": "code",
      "source": [],
      "metadata": {
        "id": "blcA52ixkYvg"
      },
      "execution_count": null,
      "outputs": []
    },
    {
      "cell_type": "markdown",
      "metadata": {
        "id": "WDWnyHmtQQ0p"
      },
      "source": [
        "# **MODELING**"
      ]
    },
    {
      "cell_type": "markdown",
      "source": [
        "## **RESNET 18**"
      ],
      "metadata": {
        "id": "wXguXMC7LEjc"
      }
    },
    {
      "cell_type": "code",
      "source": [
        "import torch\n",
        "import torch.nn as nn\n",
        "import torch.optim as optim\n",
        "from torchvision import datasets, transforms\n",
        "from torch.utils.data import DataLoader\n",
        "import matplotlib.pyplot as plt\n",
        "\n",
        "from google.colab import drive\n",
        "drive.mount('/content/drive')\n",
        "\n",
        "class CustomResNet18(nn.Module):\n",
        "    def __init__(self, num_classes):\n",
        "        super(CustomResNet18, self).__init__()\n",
        "        self.resnet = torch.hub.load('pytorch/vision:v0.9.0', 'resnet18', pretrained=True)\n",
        "        for param in list(self.resnet.parameters())[-10:]:\n",
        "            param.requires_grad = True\n",
        "        # for param in self.resnet.parameters():\n",
        "        #     param.requires_grad = False\n",
        "        num_ftrs = self.resnet.fc.in_features\n",
        "        self.resnet.fc = nn.Linear(num_ftrs, num_classes)\n",
        "\n",
        "    def forward(self, x):\n",
        "        return self.resnet(x)\n",
        "\n",
        "from torchvision import transforms\n",
        "\n",
        "transform = {\n",
        "    'train': transforms.Compose([\n",
        "        transforms.RandomResizedCrop(224),\n",
        "        transforms.RandomHorizontalFlip(),\n",
        "        transforms.RandomVerticalFlip(),\n",
        "        transforms.RandomRotation(45),\n",
        "        transforms.RandomAffine(degrees=0, shear=0.2, scale=(0.8, 1.2)),\n",
        "        transforms.ToTensor(),\n",
        "        transforms.Normalize([0.485, 0.456, 0.406], [0.229, 0.224, 0.225])\n",
        "    ]),\n",
        "    'val': transforms.Compose([\n",
        "        transforms.Resize(256),\n",
        "        transforms.RandomAffine(degrees=0, shear=0.2, scale=(0.8, 1.2)),\n",
        "        transforms.RandomVerticalFlip(),\n",
        "        transforms.CenterCrop(224),\n",
        "        transforms.ToTensor(),\n",
        "        transforms.Normalize([0.485, 0.456, 0.406], [0.229, 0.224, 0.225])\n",
        "    ]),\n",
        "}\n",
        "\n",
        "train_dataset = datasets.ImageFolder(root='/content/drive/MyDrive/SKRIPSI/dataset_split/train', transform=transform['train'])\n",
        "val_dataset = datasets.ImageFolder(root='/content/drive/MyDrive/SKRIPSI/dataset_split/val', transform=transform['val'])\n",
        "\n",
        "train_loader = DataLoader(train_dataset, batch_size=64, shuffle=True, num_workers=2)\n",
        "val_loader = DataLoader(val_dataset, batch_size=64, shuffle=False, num_workers=2)\n",
        "\n",
        "num_classes = len(train_dataset.classes)\n",
        "device = torch.device(\"cuda\" if torch.cuda.is_available() else \"cpu\")\n",
        "model = CustomResNet18(num_classes).to(device)\n",
        "\n",
        "criterion = nn.CrossEntropyLoss()\n",
        "optimizer = optim.Adam(model.parameters(), lr=0.0001)\n",
        "\n",
        "def train_model(model, criterion, optimizer, num_epochs=25):\n",
        "    train_loss_history = []  # Initialize list to store training loss per epoch\n",
        "    val_loss_history = []    # Initialize list to store validation loss per epoch\n",
        "    train_acc_history = []   # Initialize list to store training accuracy per epoch\n",
        "    val_acc_history = []     # Initialize list to store validation accuracy per epoch\n",
        "\n",
        "    for epoch in range(num_epochs):\n",
        "        print('Epoch {}/{}'.format(epoch, num_epochs - 1))\n",
        "        print('-' * 10)\n",
        "\n",
        "        for phase in ['train', 'val']:\n",
        "            if phase == 'train':\n",
        "                model.train()\n",
        "                dataloader = train_loader\n",
        "            else:\n",
        "                model.eval()\n",
        "                dataloader = val_loader\n",
        "\n",
        "            running_loss = 0.0\n",
        "            running_corrects = 0\n",
        "            total_samples = 0\n",
        "\n",
        "            for inputs, labels in dataloader:\n",
        "                inputs = inputs.to(device)\n",
        "                labels = labels.to(device)\n",
        "\n",
        "                optimizer.zero_grad()\n",
        "\n",
        "                with torch.set_grad_enabled(phase == 'train'):\n",
        "                    outputs = model(inputs)\n",
        "                    _, preds = torch.max(outputs, 1)\n",
        "                    loss = criterion(outputs, labels)\n",
        "\n",
        "                    if phase == 'train':\n",
        "                        loss.backward()\n",
        "                        optimizer.step()\n",
        "\n",
        "                running_loss += loss.item() * inputs.size(0)\n",
        "                running_corrects += torch.sum(preds == labels.data)\n",
        "                total_samples += labels.size(0)\n",
        "\n",
        "            epoch_loss = running_loss / total_samples\n",
        "            epoch_acc = running_corrects.double() / total_samples\n",
        "\n",
        "            print('{} Loss: {:.4f} Acc: {:.4f}'.format(phase, epoch_loss, epoch_acc))\n",
        "\n",
        "            # Store loss and accuracy per epoch\n",
        "            if phase == 'train':\n",
        "                train_loss_history.append(epoch_loss)\n",
        "                train_acc_history.append(epoch_acc)\n",
        "            else:\n",
        "                val_loss_history.append(epoch_loss)\n",
        "                val_acc_history.append(epoch_acc)\n",
        "\n",
        "    return train_loss_history, val_loss_history, train_acc_history, val_acc_history\n",
        "\n",
        "# Train the model\n",
        "train_loss_history, val_loss_history, train_acc_history, val_acc_history = train_model(model, criterion, optimizer, num_epochs=30)\n",
        "\n",
        "\n"
      ],
      "metadata": {
        "colab": {
          "base_uri": "https://localhost:8080/"
        },
        "id": "PSqSTmTwf0LG",
        "outputId": "f11aaf74-3167-4c17-8ecd-c4d318343019"
      },
      "execution_count": null,
      "outputs": [
        {
          "output_type": "stream",
          "name": "stdout",
          "text": [
            "Mounted at /content/drive\n"
          ]
        },
        {
          "output_type": "stream",
          "name": "stderr",
          "text": [
            "Downloading: \"https://github.com/pytorch/vision/zipball/v0.9.0\" to /root/.cache/torch/hub/v0.9.0.zip\n",
            "/usr/local/lib/python3.10/dist-packages/torchvision/models/_utils.py:208: UserWarning: The parameter 'pretrained' is deprecated since 0.13 and may be removed in the future, please use 'weights' instead.\n",
            "  warnings.warn(\n",
            "/usr/local/lib/python3.10/dist-packages/torchvision/models/_utils.py:223: UserWarning: Arguments other than a weight enum or `None` for 'weights' are deprecated since 0.13 and may be removed in the future. The current behavior is equivalent to passing `weights=ResNet18_Weights.IMAGENET1K_V1`. You can also use `weights=ResNet18_Weights.DEFAULT` to get the most up-to-date weights.\n",
            "  warnings.warn(msg)\n",
            "Downloading: \"https://download.pytorch.org/models/resnet18-f37072fd.pth\" to /root/.cache/torch/hub/checkpoints/resnet18-f37072fd.pth\n",
            "100%|██████████| 44.7M/44.7M [00:00<00:00, 169MB/s]\n"
          ]
        },
        {
          "output_type": "stream",
          "name": "stdout",
          "text": [
            "Epoch 0/29\n",
            "----------\n"
          ]
        },
        {
          "output_type": "stream",
          "name": "stderr",
          "text": [
            "/usr/lib/python3.10/multiprocessing/popen_fork.py:66: RuntimeWarning: os.fork() was called. os.fork() is incompatible with multithreaded code, and JAX is multithreaded, so this will likely lead to a deadlock.\n",
            "  self.pid = os.fork()\n",
            "/usr/lib/python3.10/multiprocessing/popen_fork.py:66: RuntimeWarning: os.fork() was called. os.fork() is incompatible with multithreaded code, and JAX is multithreaded, so this will likely lead to a deadlock.\n",
            "  self.pid = os.fork()\n"
          ]
        },
        {
          "output_type": "stream",
          "name": "stdout",
          "text": [
            "train Loss: 0.7971 Acc: 0.6762\n",
            "val Loss: 0.5684 Acc: 0.7851\n",
            "Epoch 1/29\n",
            "----------\n",
            "train Loss: 0.4764 Acc: 0.8182\n",
            "val Loss: 0.3575 Acc: 0.8811\n",
            "Epoch 2/29\n",
            "----------\n",
            "train Loss: 0.4114 Acc: 0.8472\n",
            "val Loss: 0.3041 Acc: 0.8838\n",
            "Epoch 3/29\n",
            "----------\n",
            "train Loss: 0.3790 Acc: 0.8537\n",
            "val Loss: 0.2143 Acc: 0.9311\n",
            "Epoch 4/29\n",
            "----------\n",
            "train Loss: 0.3251 Acc: 0.8807\n",
            "val Loss: 0.2058 Acc: 0.9270\n",
            "Epoch 5/29\n",
            "----------\n",
            "train Loss: 0.3085 Acc: 0.8869\n",
            "val Loss: 0.2315 Acc: 0.9027\n",
            "Epoch 6/29\n",
            "----------\n",
            "train Loss: 0.2894 Acc: 0.8970\n",
            "val Loss: 0.1750 Acc: 0.9351\n",
            "Epoch 7/29\n",
            "----------\n",
            "train Loss: 0.2871 Acc: 0.8923\n",
            "val Loss: 0.2166 Acc: 0.9311\n",
            "Epoch 8/29\n",
            "----------\n",
            "train Loss: 0.2428 Acc: 0.9112\n",
            "val Loss: 0.1661 Acc: 0.9405\n",
            "Epoch 9/29\n",
            "----------\n",
            "train Loss: 0.2303 Acc: 0.9159\n",
            "val Loss: 0.1958 Acc: 0.9351\n",
            "Epoch 10/29\n",
            "----------\n",
            "train Loss: 0.2238 Acc: 0.9178\n",
            "val Loss: 0.1863 Acc: 0.9324\n",
            "Epoch 11/29\n",
            "----------\n",
            "train Loss: 0.2219 Acc: 0.9170\n",
            "val Loss: 0.2106 Acc: 0.9365\n",
            "Epoch 12/29\n",
            "----------\n",
            "train Loss: 0.2287 Acc: 0.9124\n",
            "val Loss: 0.1442 Acc: 0.9514\n",
            "Epoch 13/29\n",
            "----------\n",
            "train Loss: 0.2070 Acc: 0.9193\n",
            "val Loss: 0.1412 Acc: 0.9514\n",
            "Epoch 14/29\n",
            "----------\n",
            "train Loss: 0.2097 Acc: 0.9244\n",
            "val Loss: 0.1630 Acc: 0.9405\n",
            "Epoch 15/29\n",
            "----------\n",
            "train Loss: 0.2227 Acc: 0.9143\n",
            "val Loss: 0.1745 Acc: 0.9486\n",
            "Epoch 16/29\n",
            "----------\n",
            "train Loss: 0.2096 Acc: 0.9190\n",
            "val Loss: 0.1725 Acc: 0.9541\n",
            "Epoch 17/29\n",
            "----------\n",
            "train Loss: 0.2064 Acc: 0.9251\n",
            "val Loss: 0.1626 Acc: 0.9554\n",
            "Epoch 18/29\n",
            "----------\n",
            "train Loss: 0.1817 Acc: 0.9344\n",
            "val Loss: 0.1534 Acc: 0.9541\n",
            "Epoch 19/29\n",
            "----------\n",
            "train Loss: 0.1979 Acc: 0.9259\n",
            "val Loss: 0.1669 Acc: 0.9405\n",
            "Epoch 20/29\n",
            "----------\n",
            "train Loss: 0.1808 Acc: 0.9379\n",
            "val Loss: 0.1839 Acc: 0.9459\n",
            "Epoch 21/29\n",
            "----------\n",
            "train Loss: 0.1731 Acc: 0.9321\n",
            "val Loss: 0.1560 Acc: 0.9581\n",
            "Epoch 22/29\n",
            "----------\n",
            "train Loss: 0.1975 Acc: 0.9274\n",
            "val Loss: 0.1535 Acc: 0.9568\n",
            "Epoch 23/29\n",
            "----------\n",
            "train Loss: 0.1795 Acc: 0.9325\n",
            "val Loss: 0.1289 Acc: 0.9554\n",
            "Epoch 24/29\n",
            "----------\n",
            "train Loss: 0.2015 Acc: 0.9255\n",
            "val Loss: 0.1234 Acc: 0.9635\n",
            "Epoch 25/29\n",
            "----------\n",
            "train Loss: 0.1704 Acc: 0.9394\n",
            "val Loss: 0.1734 Acc: 0.9486\n",
            "Epoch 26/29\n",
            "----------\n",
            "train Loss: 0.1685 Acc: 0.9375\n",
            "val Loss: 0.1571 Acc: 0.9514\n",
            "Epoch 27/29\n",
            "----------\n",
            "train Loss: 0.1642 Acc: 0.9382\n",
            "val Loss: 0.1550 Acc: 0.9473\n",
            "Epoch 28/29\n",
            "----------\n",
            "train Loss: 0.1513 Acc: 0.9483\n",
            "val Loss: 0.1299 Acc: 0.9581\n",
            "Epoch 29/29\n",
            "----------\n",
            "train Loss: 0.1299 Acc: 0.9491\n",
            "val Loss: 0.1104 Acc: 0.9635\n"
          ]
        }
      ]
    },
    {
      "cell_type": "code",
      "source": [
        "from sklearn.metrics import classification_report\n",
        "\n",
        "# Function to collect predictions and labels from the dataloader\n",
        "def get_predictions_and_labels(model, dataloader):\n",
        "    model.eval()\n",
        "    all_preds = []\n",
        "    all_labels = []\n",
        "    with torch.no_grad():\n",
        "        for inputs, labels in dataloader:\n",
        "            inputs = inputs.to(device)\n",
        "            labels = labels.to(device)\n",
        "            outputs = model(inputs)\n",
        "            _, preds = torch.max(outputs, 1)\n",
        "            all_preds.extend(preds.cpu().numpy())\n",
        "            all_labels.extend(labels.cpu().numpy())\n",
        "    return all_preds, all_labels\n",
        "\n",
        "# Collect predictions and labels from the validation set\n",
        "val_preds, val_labels = get_predictions_and_labels(model, val_loader)\n"
      ],
      "metadata": {
        "colab": {
          "base_uri": "https://localhost:8080/"
        },
        "id": "t9Pl5FFoOpbK",
        "outputId": "2beb8079-f2c8-4763-b5ff-1451f4845570"
      },
      "execution_count": null,
      "outputs": [
        {
          "output_type": "stream",
          "name": "stderr",
          "text": [
            "/usr/lib/python3.10/multiprocessing/popen_fork.py:66: RuntimeWarning: os.fork() was called. os.fork() is incompatible with multithreaded code, and JAX is multithreaded, so this will likely lead to a deadlock.\n",
            "  self.pid = os.fork()\n"
          ]
        }
      ]
    },
    {
      "cell_type": "code",
      "source": [
        "from sklearn.metrics import classification_report\n",
        "\n",
        "# Generate classification report\n",
        "report = classification_report(val_labels, val_preds, target_names=train_dataset.classes)\n",
        "print(report)\n"
      ],
      "metadata": {
        "colab": {
          "base_uri": "https://localhost:8080/"
        },
        "id": "-TeupDrZOsvY",
        "outputId": "87d0ff19-c72d-4e78-ca8f-c5768b4c2e34"
      },
      "execution_count": null,
      "outputs": [
        {
          "output_type": "stream",
          "name": "stdout",
          "text": [
            "                  precision    recall  f1-score   support\n",
            "\n",
            "    glioma_tumor       0.98      0.93      0.96       187\n",
            "meningioma_tumor       0.93      0.98      0.95       187\n",
            "        no_tumor       0.98      0.98      0.98       186\n",
            " pituitary_tumor       0.99      0.99      0.99       180\n",
            "\n",
            "        accuracy                           0.97       740\n",
            "       macro avg       0.97      0.97      0.97       740\n",
            "    weighted avg       0.97      0.97      0.97       740\n",
            "\n"
          ]
        }
      ]
    },
    {
      "cell_type": "code",
      "source": [
        "# Plot train and validation loss\n",
        "\n",
        "plt.plot(train_loss_history, label='Train Loss')\n",
        "plt.plot(val_loss_history, label='Validation Loss')\n",
        "plt.xlabel('Epoch')\n",
        "plt.ylabel('Loss')\n",
        "plt.title('Train and Validation Loss')\n",
        "plt.legend()\n",
        "plt.show()\n",
        "\n",
        "train_acc_cpu = [acc.cpu().numpy() for acc in train_acc_history]\n",
        "val_acc_cpu = [acc.cpu().numpy() for acc in val_acc_history]\n",
        "\n",
        "# Plot train and validation accuracy\n",
        "plt.plot(train_acc_cpu, label='Train Accuracy')\n",
        "plt.plot(val_acc_cpu, label='Validation Accuracy')\n",
        "plt.xlabel('Epoch')\n",
        "plt.ylabel('Accuracy')\n",
        "plt.title('Train and Validation Accuracy')\n",
        "plt.legend()\n",
        "plt.show()"
      ],
      "metadata": {
        "colab": {
          "base_uri": "https://localhost:8080/",
          "height": 927
        },
        "id": "kTmDzzlOiwHj",
        "outputId": "36c7f212-8265-4b52-c6f4-08218b0d901d"
      },
      "execution_count": null,
      "outputs": [
        {
          "output_type": "display_data",
          "data": {
            "text/plain": [
              "<Figure size 640x480 with 1 Axes>"
            ],
            "image/png": "[encoded data removed]"
          },
          "metadata": {}
        },
        {
          "output_type": "display_data",
          "data": {
            "text/plain": [
              "<Figure size 640x480 with 1 Axes>"
            ],
            "image/png": "[encoded data removed]"
          },
          "metadata": {}
        }
      ]
    },
    {
      "cell_type": "code",
      "source": [
        "!pip install torchsummary\n"
      ],
      "metadata": {
        "colab": {
          "base_uri": "https://localhost:8080/"
        },
        "id": "xnKSpZJn_z9i",
        "outputId": "a6c2dc29-fe9e-4caf-e92e-576f72ebec22"
      },
      "execution_count": null,
      "outputs": [
        {
          "output_type": "stream",
          "name": "stdout",
          "text": [
            "Requirement already satisfied: torchsummary in /usr/local/lib/python3.10/dist-packages (1.5.1)\n"
          ]
        }
      ]
    },
    {
      "cell_type": "code",
      "source": [
        "import torchsummary\n",
        "\n",
        "# Generate model summary\n",
        "torchsummary.summary(model, input_size=(3, 224, 224))\n"
      ],
      "metadata": {
        "colab": {
          "base_uri": "https://localhost:8080/"
        },
        "id": "jX7d32q1_06w",
        "outputId": "909786a9-ccfb-4052-96cd-425fa9b7c042"
      },
      "execution_count": null,
      "outputs": [
        {
          "output_type": "stream",
          "name": "stdout",
          "text": [
            "----------------------------------------------------------------\n",
            "        Layer (type)               Output Shape         Param #\n",
            "================================================================\n",
            "            Conv2d-1         [-1, 64, 112, 112]           9,408\n",
            "       BatchNorm2d-2         [-1, 64, 112, 112]             128\n",
            "              ReLU-3         [-1, 64, 112, 112]               0\n",
            "         MaxPool2d-4           [-1, 64, 56, 56]               0\n",
            "            Conv2d-5           [-1, 64, 56, 56]          36,864\n",
            "       BatchNorm2d-6           [-1, 64, 56, 56]             128\n",
            "              ReLU-7           [-1, 64, 56, 56]               0\n",
            "            Conv2d-8           [-1, 64, 56, 56]          36,864\n",
            "       BatchNorm2d-9           [-1, 64, 56, 56]             128\n",
            "             ReLU-10           [-1, 64, 56, 56]               0\n",
            "       BasicBlock-11           [-1, 64, 56, 56]               0\n",
            "           Conv2d-12           [-1, 64, 56, 56]          36,864\n",
            "      BatchNorm2d-13           [-1, 64, 56, 56]             128\n",
            "             ReLU-14           [-1, 64, 56, 56]               0\n",
            "           Conv2d-15           [-1, 64, 56, 56]          36,864\n",
            "      BatchNorm2d-16           [-1, 64, 56, 56]             128\n",
            "             ReLU-17           [-1, 64, 56, 56]               0\n",
            "       BasicBlock-18           [-1, 64, 56, 56]               0\n",
            "           Conv2d-19          [-1, 128, 28, 28]          73,728\n",
            "      BatchNorm2d-20          [-1, 128, 28, 28]             256\n",
            "             ReLU-21          [-1, 128, 28, 28]               0\n",
            "           Conv2d-22          [-1, 128, 28, 28]         147,456\n",
            "      BatchNorm2d-23          [-1, 128, 28, 28]             256\n",
            "           Conv2d-24          [-1, 128, 28, 28]           8,192\n",
            "      BatchNorm2d-25          [-1, 128, 28, 28]             256\n",
            "             ReLU-26          [-1, 128, 28, 28]               0\n",
            "       BasicBlock-27          [-1, 128, 28, 28]               0\n",
            "           Conv2d-28          [-1, 128, 28, 28]         147,456\n",
            "      BatchNorm2d-29          [-1, 128, 28, 28]             256\n",
            "             ReLU-30          [-1, 128, 28, 28]               0\n",
            "           Conv2d-31          [-1, 128, 28, 28]         147,456\n",
            "      BatchNorm2d-32          [-1, 128, 28, 28]             256\n",
            "             ReLU-33          [-1, 128, 28, 28]               0\n",
            "       BasicBlock-34          [-1, 128, 28, 28]               0\n",
            "           Conv2d-35          [-1, 256, 14, 14]         294,912\n",
            "      BatchNorm2d-36          [-1, 256, 14, 14]             512\n",
            "             ReLU-37          [-1, 256, 14, 14]               0\n",
            "           Conv2d-38          [-1, 256, 14, 14]         589,824\n",
            "      BatchNorm2d-39          [-1, 256, 14, 14]             512\n",
            "           Conv2d-40          [-1, 256, 14, 14]          32,768\n",
            "      BatchNorm2d-41          [-1, 256, 14, 14]             512\n",
            "             ReLU-42          [-1, 256, 14, 14]               0\n",
            "       BasicBlock-43          [-1, 256, 14, 14]               0\n",
            "           Conv2d-44          [-1, 256, 14, 14]         589,824\n",
            "      BatchNorm2d-45          [-1, 256, 14, 14]             512\n",
            "             ReLU-46          [-1, 256, 14, 14]               0\n",
            "           Conv2d-47          [-1, 256, 14, 14]         589,824\n",
            "      BatchNorm2d-48          [-1, 256, 14, 14]             512\n",
            "             ReLU-49          [-1, 256, 14, 14]               0\n",
            "       BasicBlock-50          [-1, 256, 14, 14]               0\n",
            "           Conv2d-51            [-1, 512, 7, 7]       1,179,648\n",
            "      BatchNorm2d-52            [-1, 512, 7, 7]           1,024\n",
            "             ReLU-53            [-1, 512, 7, 7]               0\n",
            "           Conv2d-54            [-1, 512, 7, 7]       2,359,296\n",
            "      BatchNorm2d-55            [-1, 512, 7, 7]           1,024\n",
            "           Conv2d-56            [-1, 512, 7, 7]         131,072\n",
            "      BatchNorm2d-57            [-1, 512, 7, 7]           1,024\n",
            "             ReLU-58            [-1, 512, 7, 7]               0\n",
            "       BasicBlock-59            [-1, 512, 7, 7]               0\n",
            "           Conv2d-60            [-1, 512, 7, 7]       2,359,296\n",
            "      BatchNorm2d-61            [-1, 512, 7, 7]           1,024\n",
            "             ReLU-62            [-1, 512, 7, 7]               0\n",
            "           Conv2d-63            [-1, 512, 7, 7]       2,359,296\n",
            "      BatchNorm2d-64            [-1, 512, 7, 7]           1,024\n",
            "             ReLU-65            [-1, 512, 7, 7]               0\n",
            "       BasicBlock-66            [-1, 512, 7, 7]               0\n",
            "AdaptiveAvgPool2d-67            [-1, 512, 1, 1]               0\n",
            "           Linear-68                    [-1, 4]           2,052\n",
            "           ResNet-69                    [-1, 4]               0\n",
            "================================================================\n",
            "Total params: 11,178,564\n",
            "Trainable params: 11,178,564\n",
            "Non-trainable params: 0\n",
            "----------------------------------------------------------------\n",
            "Input size (MB): 0.57\n",
            "Forward/backward pass size (MB): 62.79\n",
            "Params size (MB): 42.64\n",
            "Estimated Total Size (MB): 106.00\n",
            "----------------------------------------------------------------\n"
          ]
        }
      ]
    }
  ],
  "metadata": {
    "accelerator": "GPU",
    "colab": {
      "gpuType": "T4",
      "provenance": [],
      "collapsed_sections": [
        "S8dZ6SOfKjf_",
        "NV-AepckKuOb",
        "arS123vzK8ev",
        "x4H5DYVpWWzo",
        "wOtKgTSHzQn3"
      ]
    },
    "kernelspec": {
      "display_name": "Python 3",
      "name": "python3"
    },
    "language_info": {
      "codemirror_mode": {
        "name": "ipython",
        "version": 3
      },
      "file_extension": ".py",
      "mimetype": "text/x-python",
      "name": "python",
      "nbconvert_exporter": "python",
      "pygments_lexer": "ipython3",
      "version": "3.6.4"
    }
  },
  "nbformat": 4,
  "nbformat_minor": 0
}